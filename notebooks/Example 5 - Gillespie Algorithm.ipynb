{
 "cells": [
  {
   "cell_type": "code",
   "execution_count": 1,
   "metadata": {},
   "outputs": [],
   "source": [
    "%matplotlib notebook"
   ]
  },
  {
   "cell_type": "code",
   "execution_count": 2,
   "metadata": {},
   "outputs": [],
   "source": [
    "import numpy as np\n",
    "import matplotlib.pyplot as plt\n",
    "from cpyment import CModel"
   ]
  },
  {
   "cell_type": "markdown",
   "metadata": {},
   "source": [
    "The [Gillespie algorithm](https://en.wikipedia.org/wiki/Gillespie_algorithm) is an algorithm used for stochastic simulations of reactions systems. It is included in CModel as an alternative to `.integrate`, which does a numerical integration of the ODEs. Since the method can be computationally heavy, if available, it makes use of the optimisation library Numba, which dramatically improves performance. Here is an example with a simple SIR model."
   ]
  },
  {
   "cell_type": "code",
   "execution_count": 3,
   "metadata": {},
   "outputs": [],
   "source": [
    "# Population\n",
    "N = 1000\n",
    "# Infected at t=0\n",
    "N_I = 1\n",
    "\n",
    "cm = CModel.make_SIR(beta=0.3/N)"
   ]
  },
  {
   "cell_type": "code",
   "execution_count": 5,
   "metadata": {},
   "outputs": [],
   "source": [
    "t = np.linspace(0, 100, 1000) # Time axis\n",
    "tmax = t[-1] # Maximum time\n",
    "y0 = np.array([N-N_I, N_I, 0.0]) # Starting state\n",
    "\n",
    "gill_traj = cm.gillespie(tmax, y0, samples=100)\n",
    "\n",
    "ode_traj = cm.integrate(t, y0)"
   ]
  },
  {
   "cell_type": "code",
   "execution_count": null,
   "metadata": {},
   "outputs": [],
   "source": [
    "fig, ax = plt.subplots()\n",
    "\n",
    "# Gillespie traje\n",
    "ax.plot()"
   ]
  }
 ],
 "metadata": {
  "kernelspec": {
   "display_name": "Python 3",
   "language": "python",
   "name": "python3"
  },
  "language_info": {
   "codemirror_mode": {
    "name": "ipython",
    "version": 3
   },
   "file_extension": ".py",
   "mimetype": "text/x-python",
   "name": "python",
   "nbconvert_exporter": "python",
   "pygments_lexer": "ipython3",
   "version": "3.6.10"
  }
 },
 "nbformat": 4,
 "nbformat_minor": 4
}
