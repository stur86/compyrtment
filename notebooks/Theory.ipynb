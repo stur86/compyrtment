{
 "cells": [
  {
   "cell_type": "code",
   "execution_count": 1,
   "metadata": {},
   "outputs": [],
   "source": [
    "%matplotlib notebook"
   ]
  },
  {
   "cell_type": "code",
   "execution_count": 2,
   "metadata": {},
   "outputs": [],
   "source": [
    "import numpy as np\n",
    "import matplotlib.pyplot as plt\n",
    "from cpyment import CModel"
   ]
  },
  {
   "cell_type": "markdown",
   "metadata": {},
   "source": [
    "Compyrtment is a Python library for compartment models. These are simple models often use to describe processes such as epidemic spread (e.g. the SIR model) or population ecology (the Lotka-Volterra model). At their essence, these models consist of two things:\n",
    "\n",
    "* a number of **states**, representing groups or populations which dynamically evolve (for example, for the SIR model, Susceptible, Infected, and Recovered people)\n",
    "\n",
    "* a number of **couplings** between these groups, representing how they evolve\n",
    "\n",
    "In Compyrtment we consider only three types of possible couplings between states: constant, linear, and quadratic.\n",
    "\n",
    "Consider a model with only two states: A and B. If we added a constant term $\\alpha$ to A, that would mean that:\n",
    "\n",
    "$$\n",
    "\\frac{d A}{dt} = \\alpha\n",
    "$$\n",
    "\n",
    "If we added a linear term proportional to B, with constant $\\beta$, that would be:\n",
    "\n",
    "$$\n",
    "\\frac{d A}{dt} = \\beta B\n",
    "$$\n",
    "\n",
    "Finally, if we added a quadratic term proportional to both A and B, with constant $\\gamma$, we would have:\n",
    "\n",
    "$$\n",
    "\\frac{d A}{dt} = \\gamma A B\n",
    "$$"
   ]
  },
  {
   "cell_type": "markdown",
   "metadata": {},
   "source": [
    "The way you would represent this model in Compyrtment is by defining a model with a given set of states, then adding couplings. The couplings are added with the method `.set_coupling_rate` and using a descriptor string in the format:\n",
    "\n",
    "```\n",
    "A*B:C=>D\n",
    "```\n",
    "\n",
    "which means a quadratic coupling using the states A and B, moving population from C to D. This means the coupling would appear with a minus sign in $dC/dt$, and a positive one in $dD/dt$, thus leading to a constant overall population - the population simply shifts from one side to the other. Terms in the above string can be omitted, leading to intuitive outcomes. For example, `A:C=>D` will produce a linear coupling proportional only to A. `A*B` will produce a quadratic coupling that shifts members from A to B. `:=>D` will produce a constant term that only grows D without reducing anything, and thus constituting a 'source', which increases the total population.\n",
    "\n",
    "For practical examples, see the other notebooks."
   ]
  }
 ],
 "metadata": {
  "kernelspec": {
   "display_name": "Python 3",
   "language": "python",
   "name": "python3"
  },
  "language_info": {
   "codemirror_mode": {
    "name": "ipython",
    "version": 3
   },
   "file_extension": ".py",
   "mimetype": "text/x-python",
   "name": "python",
   "nbconvert_exporter": "python",
   "pygments_lexer": "ipython3",
   "version": "3.6.10"
  }
 },
 "nbformat": 4,
 "nbformat_minor": 4
}
